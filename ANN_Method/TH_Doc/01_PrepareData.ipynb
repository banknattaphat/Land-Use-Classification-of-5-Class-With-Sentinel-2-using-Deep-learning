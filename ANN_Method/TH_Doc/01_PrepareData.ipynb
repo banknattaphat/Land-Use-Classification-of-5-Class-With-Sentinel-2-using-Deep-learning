import os, glob, math
import pyrsgis.raster as raster
import numpy as np
