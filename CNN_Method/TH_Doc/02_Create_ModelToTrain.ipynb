{
 "cells": [
  {
   "cell_type": "markdown",
   "id": "c0dac2b1-99e7-4a93-a11c-19b1988638f5",
   "metadata": {},
   "source": [
    "# [Step 2] ทำการนำเข้า module ที่จำเป็นต้องใช้ในการทำงานบน Environment (For Model CNN)"
   ]
  },
  {
   "cell_type": "code",
   "execution_count": null,
   "id": "43491bba-e1b1-49ec-bb69-40ef14d84591",
   "metadata": {},
   "outputs": [],
   "source": [
    "import tensorflow as tf\n",
    "import tensorflow.keras as ks\n",
    "from tensorflow.keras.layers import Dense, Conv2D, MaxPooling2D, Dropout, Flatten\n",
    "from sklearn.metrics import confusion_matrix, precision_score, recall_score, f1_score\n",
    "import random"
   ]
  },
  {
   "cell_type": "code",
   "execution_count": null,
   "id": "876555bc-4da6-43c5-8f4d-7e82c87d46ef",
   "metadata": {},
   "outputs": [],
   "source": [
    "#ตรวจสอบและตั้งค่า Directory เพื่อนำเข้าข้อมูลต้นทางที่เป็น .npy format\n",
    "os.chdir(r\"C:\\Users\\std\\Desktop\\Dataset\\CNN Method\\SplitIMG_3x3\\Output\")\n",
    "\n",
    "#Load array file to spilt data\n",
    "HKT_IMG_arr = np.load('HKT_CNN_3x3_09022018.npy')\n",
    "Label_IMG_arr = np.load('Label_CNN_3x3_09022018.npy')"
   ]
  },
  {
   "cell_type": "markdown",
   "id": "10e10569-3158-42bc-b7cb-19cba0bf8db1",
   "metadata": {},
   "source": [
    "### [Step 2.1] ทำการสร้าง Function ในการจำแนกข้อมูลเพื่อนำไป Train บนตัว Model"
   ]
  },
  {
   "cell_type": "code",
   "execution_count": null,
   "id": "634aa2f2-0ed1-4f51-9e05-2787942922d4",
   "metadata": {},
   "outputs": [],
   "source": [
    "#Define the function split data\n",
    "def train_test_spilt(HKT_Arr, Labels_Arr, trainProp=0.6):\n",
    "    datasize = HKT_Arr.shape[0]\n",
    "    sliceindex = int(datasize*trainProp)\n",
    "    randindex = np.arange(datasize)\n",
    "    random.shuffle(randindex)\n",
    "    X_train = HKT_Arr[[randindex[:sliceindex]], :, :, :][0]\n",
    "    X_test = HKT_Arr[[randindex[sliceindex:]], :, :, :][0]\n",
    "    Y_train = Labels_Arr[randindex[:sliceindex]]\n",
    "    Y_test = Labels_Arr[randindex[sliceindex:]]\n",
    "    return (X_train, X_test, Y_train, Y_test)"
   ]
  },
  {
   "cell_type": "code",
   "execution_count": null,
   "id": "75ced795-ea5d-4d8b-8002-0b6becfe98b1",
   "metadata": {},
   "outputs": [],
   "source": [
    "#Spilt the data // ทำการแยกข้อมูลเป็น 2 ประเภท คือ Train = ข้อมูลฝึกฝนแบบจำลอง | Test = ข้อมูลทดสอบแบบจำลอง\n",
    "X_train, X_test, Y_train, Y_test = train_test_spilt(HKT_IMG_arr, Label_IMG_arr)\n",
    "\n",
    "# Transpose the features to channel last format // จัดลำดับตัวข้อมูลใหม่\n",
    "train_x = tf.transpose(X_train, [0, 2, 3, 1])\n",
    "test_x = tf.transpose(X_test, [0, 2, 3, 1])\n",
    "print('Reshaped features:', train_x.shape, test_x.shape)\n",
    "_, rowSize, colSize, nBands = train_x.shape"
   ]
  },
  {
   "cell_type": "markdown",
   "id": "a6ce3e6b-f666-409c-8eab-c7a7bf1a1ace",
   "metadata": {},
   "source": [
    "### [Step 2.2] สร้างแบบจำลอง CNN (Model)"
   ]
  },
  {
   "cell_type": "code",
   "execution_count": null,
   "id": "3bf28dfd-d66b-4b73-a5f3-ff921bf0a9fa",
   "metadata": {},
   "outputs": [],
   "source": [
    "# Create a model\n",
    "model = ks.Sequential()\n",
    "model.add(Conv2D(50, kernel_size=1, padding='valid', activation='relu', input_shape=(rowSize, colSize, nBands)))\n",
    "model.add(Conv2D(75, kernel_size=1, padding='valid', activation='relu'))\n",
    "model.add(Dropout(0.25))\n",
    "model.add(Conv2D(100, kernel_size=1, padding='valid', activation='relu'))\n",
    "model.add(Flatten())\n",
    "model.add(Dense(100, activation='relu'))\n",
    "model.add(Dropout(0.25))\n",
    "model.add(Dense(6, activation='softmax'))\n",
    "\n",
    "#แสดง parameter เพื่อดูขนาดและจำนวน node ที่ Modelใช้ฝึกฝนและจำลอง\n",
    "model.summary()"
   ]
  },
  {
   "cell_type": "markdown",
   "id": "9b956eea-d3db-45c5-ac9a-b989625e02bc",
   "metadata": {},
   "source": [
    "### [Step 2.3] ทำการ Train Model และทดสอบการจำแนกเพื่อทำนายผลที่ได้ (จำแนกการใช้ประโยชน์ที่ดิน)"
   ]
  },
  {
   "cell_type": "code",
   "execution_count": null,
   "id": "c0a033f4-2d28-4e38-942f-40ce76a37306",
   "metadata": {},
   "outputs": [],
   "source": [
    "# Run the model\n",
    "batch_size=2\n",
    "model.compile(loss='sparse_categorical_crossentropy', optimizer= 'rmsprop',metrics=['accuracy'])\n",
    "model.fit(train_x, Y_train, batch_size=batch_size, epochs=50, verbose=1, validation_data=(test_x, Y_test))\n",
    "\n",
    "#Predicted data from CNM model\n",
    "yTestPredicted = model.predict(test_x)\n",
    "yTestPredicted = np.argmax(yTestPredicted, axis=1)"
   ]
  },
  {
   "cell_type": "markdown",
   "id": "0e4a6f9f-9fa4-4eb7-b5c5-5fb58feb37bd",
   "metadata": {},
   "source": [
    "### [Step 2.4] แสดงผลลัพธ์และรายงานผลประสิทธิภาพของตัว Model ที่ได้ทำการ Train"
   ]
  },
  {
   "cell_type": "code",
   "execution_count": null,
   "id": "c4c721df-5900-4207-aa7f-cc36a64a803b",
   "metadata": {},
   "outputs": [],
   "source": [
    "# Calculate and display the error metrics\n",
    "cMatrix = confusion_matrix(Y_test, yTestPredicted)\n",
    "pScore = precision_score(Y_test, yTestPredicted, average='micro')\n",
    "rScore = recall_score(Y_test, yTestPredicted, average='micro')\n",
    "f1Score = f1_score(Y_test, yTestPredicted, average='micro')\n",
    "\n",
    "print(\"Confusion matrix: for 24 nodes\\n\", cMatrix)\n",
    "print(\"\\nP-Score: %.3f, R-Score: %.3f, F1-Score: %.3f\" % (pScore, rScore, f1Score))\n",
    "print(\"=\"*35)\n",
    "from sklearn.metrics import classification_report, accuracy_score\n",
    "\n",
    "#Classification Report\n",
    "print('Classification Report: \\n%s' % classification_report(Y_test, yTestPredicted))\n",
    "print('Classification accuracy\" %s' % accuracy_score(Y_test, yTestPredicted))"
   ]
  }
 ],
 "metadata": {
  "kernelspec": {
   "display_name": "env_dl",
   "language": "python",
   "name": "env_dl"
  },
  "language_info": {
   "codemirror_mode": {
    "name": "ipython",
    "version": 3
   },
   "file_extension": ".py",
   "mimetype": "text/x-python",
   "name": "python",
   "nbconvert_exporter": "python",
   "pygments_lexer": "ipython3",
   "version": "3.9.6"
  }
 },
 "nbformat": 4,
 "nbformat_minor": 5
}
