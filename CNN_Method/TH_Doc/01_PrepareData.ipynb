{
 "cells": [
  {
   "cell_type": "markdown",
   "id": "f64386c0-5c14-4ff0-8a39-2356871e58a9",
   "metadata": {},
   "source": [
    "# [Step 1] ทำการนำเข้า module ที่จำเป็นต้องใช้ในการทำงานบน Environment (เริ่มต้น)"
   ]
  },
  {
   "cell_type": "code",
   "execution_count": 1,
   "id": "604d5352-15da-4b3a-b0ac-4ee8731a96bc",
   "metadata": {},
   "outputs": [],
   "source": [
    "import os, glob, math\n",
    "import numpy as np\n",
    "import pyrsgis.raster as raster\n",
    "from sklearn.utils import resample "
   ]
  },
  {
   "cell_type": "code",
   "execution_count": null,
   "id": "7a35ad3c-a5e8-45c8-97b4-36d174208add",
   "metadata": {},
   "outputs": [],
   "source": [
    "#ตั้งค่าที่อยู่ของ Folder หรือ Directory ต้นทางเพื่อนำเข้า input เข้ามาใช้งาน\n",
    "os.chdir(r\"C:\\Users\\std\\Desktop\\Dataset\\CNN Method\\SplitIMG_3x3\\Output\")\n",
    "\n",
    "#เมื่อ Directory ข้อมูลแล้ว จะทำในขั้นตอนของการตรวจสอบข้อมูลที่ได้\n",
    "nChipimages = len(glob.glob('*.tif'))\n",
    "\n",
    "ds, ImagesArr = raster.read(os.listdir(os.getcwd())[0])\n",
    "nBands, X_Size, Y_Size = ds.RasterCount, ds.RasterXSize, ds.RasterYSize\n",
    "\n",
    "#สร้างที่เก็บข้อมูลภาพถ่ายและ LU เพื่อที่จะจัดเก็บข้อมูลให้อยู่ในรูปแบบของ Array file (.npy)\n",
    "Images_IMG = np.empty((nChipimages, nBands, X_Size, Y_Size))\n",
    "Labels_IMG = np.empty(nChipimages)\n",
    "print(f'Check Array file : nBands {nBands} | X_Size {X_Size} | Y_Size {Y_Size}')"
   ]
  },
  {
   "cell_type": "code",
   "execution_count": null,
   "id": "82867656-e262-4850-8b4f-54588709c297",
   "metadata": {},
   "outputs": [],
   "source": [
    "for n, file in enumerate(glob.glob('*.tif')):\n",
    "    if n == nChipimages:\n",
    "        break\n",
    "    if n % 100000 == 0:\n",
    "        print('Sample Read IMG File: %d of %d' % (n, nChipimages))\n",
    "    ds, ImagesArr = raster.read(file)\n",
    "    tempLabel = os.path.splitext(file)[0].split('_')[-1]\n",
    "    \n",
    "    Images_IMG[n,:,:,:] = ImagesArr\n",
    "    Labels_IMG[n] = tempLabel\n",
    "    \n",
    "print(f'Data detail : IMG {Images_IMG.shape} | Label {Labels_IMG.shape}')\n",
    "print(f'Value detail : IMG (max value) {Images_IMG.max()} | Label (max value) {Labels_IMG.max()}')"
   ]
  },
  {
   "cell_type": "markdown",
   "id": "11aace43-f8f3-4f18-a2ec-ba41858418ee",
   "metadata": {},
   "source": [
    "### [Step 1.1] ทำการ Save data เพื่อให้ง่ายต่อการ Load ข้อมูลและย้ายข้อมูล"
   ]
  },
  {
   "cell_type": "code",
   "execution_count": null,
   "id": "03347bb6-9c11-49ee-9ee0-afe69f70a8d6",
   "metadata": {},
   "outputs": [],
   "source": [
    "## ตั้งค่าที่อยู่หรือ Directory ที่จัดเก็บข้อมูล\n",
    "Output_DIR = (r\"C:\\Users\\std\\Desktop\\Dataset\\CNN Method\\SplitIMG_5x5\\Output\")\n",
    "os.chdir(Output_DIR)\n",
    "\n",
    "#Save data และจัดเก็บข้อมูล\n",
    "np.save('CNN_IMG_5x5_20180209.npy', Images_IMG)\n",
    "np.save('CNN_Label_5x5_20180209.npy', Labels_IMG)\n",
    "print('Save Location in >>> %s'% os.getcwd())"
   ]
  },
  {
   "cell_type": "markdown",
   "id": "dabda5f1-569e-42fe-bc05-28fe0e076e38",
   "metadata": {},
   "source": [
    "### [Step 1.2] กรณีที่ต้องการ Balance ข้อมูลแต่ละ Class ให้มีจำนวนทีเท่ากัน"
   ]
  },
  {
   "cell_type": "code",
   "execution_count": null,
   "id": "00f0f1a2-815b-45a3-9124-85db7c2558bf",
   "metadata": {},
   "outputs": [],
   "source": [
    "#จำแนกข้อมูลภาพตามตำแหน่งหรือ Class ที่มีกำหนดไว้\n",
    "#HKT & LU(Class 1 - 5)\n",
    "HKT_C1 = HKT_IMG[Label_IMG==1]    #ภาพถ่ายดาวเทียมขนาด 3x3 (Class 1 หรือ Urban)\n",
    "Lab_C1 = Label_IMG[Label_IMG==1]  \n",
    "\n",
    "HKT_C2 = HKT_IMG[Label_IMG==2]   #ภาพถ่ายดาวเทียมขนาด 3x3 (Class 2 หรือ Agriculture)\n",
    "Lab_C2 = Label_IMG[Label_IMG==2]\n",
    "\n",
    "HKT_C3 = HKT_IMG[Label_IMG==3]   #ภาพถ่ายดาวเทียมขนาด 3x3 (Class 3 หรือ Forest or Green Area)\n",
    "Lab_C3 = Label_IMG[Label_IMG==3]\n",
    "\n",
    "HKT_C4 = HKT_IMG[Label_IMG==4]   #ภาพถ่ายดาวเทียมขนาด 3x3 (Class 4 หรือ Water Area)\n",
    "Lab_C4 = Label_IMG[Label_IMG==4]\n",
    "\n",
    "HKT_C5 = HKT_IMG[Label_IMG==5]   #ภาพถ่ายดาวเทียมขนาด 3x3 (Class 5 หรือ Bare Land)\n",
    "Lab_C5 = Label_IMG[Label_IMG==5]\n",
    "\n",
    "#HKT & LU (Class 0)\n",
    "HKT_C0 = HKT_IMG[Label_IMG==0]   #ภาพถ่ายดาวเทียมขนาด 3x3 (Class 0 หรือ Background)\n",
    "Lab_C0 = Label_IMG[Label_IMG==0]\n",
    "\n",
    "#print for HKT & LU\n",
    "HKT_Class = [HKT_C1, HKT_C2, HKT_C3, HKT_C4, HKT_C5, HKT_C0]\n",
    "Label_Class = [Lab_C1, Lab_C2, Lab_C3, Lab_C4, Lab_C5, Lab_C0]\n",
    "for Class, Value in enumerate(HKT_Class):\n",
    "    print(f'Class {Class} | number of images IMG {Value.shape}')\n",
    "print('='*35)\n",
    "for Class, Value in enumerate(Label_Class):\n",
    "    print(f'Class {Class} | number of images IMG {Value.shape}')"
   ]
  },
  {
   "cell_type": "code",
   "execution_count": null,
   "id": "5c09a390-8a81-4495-a45e-05c37bf73297",
   "metadata": {},
   "outputs": [],
   "source": [
    "#ทำการ Downsample หรือทำการ Balance ข้อมูลภาพที่มีจำนวนมากให้มีจำนวนเท่ากับข้อมูลภาพที่ Class น้อยที่สุด\n",
    "#Feature data (Downsample)\n",
    "Feat_C1 = resample(HKT_C1, replace=False, n_samples=HKT_C4.shape[0], random_state=2)\n",
    "Feat_C2 = resample(HKT_C2, replace=False, n_samples=HKT_C4.shape[0], random_state=2)\n",
    "Feat_C3 = resample(HKT_C3, replace=False, n_samples=HKT_C4.shape[0], random_state=2)\n",
    "Feat_C5 = resample(HKT_C5, replace=False, n_samples=HKT_C4.shape[0], random_state=2)\n",
    "Feat_C0 = resample(HKT_C0, replace=False, n_samples=HKT_C4.shape[0], random_state=2)\n",
    "\n",
    "#Labels Data (Downsample)\n",
    "Label_C1 = resample(Lab_C1, replace=False, n_samples=Lab_C4.shape[0], random_state=2)\n",
    "Label_C2 = resample(Lab_C2, replace=False, n_samples=Lab_C4.shape[0], random_state=2)\n",
    "Label_C3 = resample(Lab_C3, replace=False, n_samples=Lab_C4.shape[0], random_state=2)\n",
    "Label_C5 = resample(Lab_C5, replace=False, n_samples=Lab_C4.shape[0], random_state=2)\n",
    "Label_C0 = resample(Lab_C0, replace=False, n_samples=Lab_C4.shape[0], random_state=2)\n",
    "# ไม่ทำการ Balance Class 4 เนื่องจากใช้เป็นจำนวนจุดสุ่ม เป็นตัวตั้งต้น\n",
    "\n",
    "for Cls, val in enumerate([Feat_C1, Feat_C2, Feat_C3, HKT_C4, Feat_C5, Feat_C0]):\n",
    "    print(f\"CLass {Cls} | number of images balance {val.shape}\")\n",
    "print('='*35)\n",
    "for Cls, val in enumerate([Label_C1, Label_C2, Label_C3, Lab_C4, Label_C5, Label_C0]):\n",
    "    print(f\"CLass {Cls} | number of images balance {val.shape}\")"
   ]
  },
  {
   "cell_type": "markdown",
   "id": "56410b05-8053-47d1-97c2-62e0c77a4ac5",
   "metadata": {},
   "source": [
    "### [Step 1.3] ทำการรวมข้อมูลที่ได้ทำการ Balance Class ให้เป็นข้อมูลตัวเดียวกัน (.npy format)"
   ]
  },
  {
   "cell_type": "code",
   "execution_count": null,
   "id": "e50b1eea-ed56-4c83-8b97-fe2ea039c8d3",
   "metadata": {},
   "outputs": [],
   "source": [
    "#ทำการรวมข้อมูลทีทำการ Downsample Class ทั้งหมดรวมกันเป็น 5 Class + background\n",
    "HKT_resample = np.concatenate((Feat_C1, Feat_C2, Feat_C3, HKT_C4, Feat_C5, Feat_C0), axis=0)\n",
    "Label_resample = np.concatenate((Label_C1, Label_C2, Label_C3, Lab_C4, Label_C5, Label_C0), axis=0)\n",
    "print(f'Detail Data Shape : HKT_IMG = {HKT_resample.shape} | Label_IMG = {Label_resample.shape}')"
   ]
  },
  {
   "cell_type": "code",
   "execution_count": null,
   "id": "75bcbddd-1921-4555-9178-7e964cc42e80",
   "metadata": {},
   "outputs": [],
   "source": [
    "#Save The Array file // ทำการ Save ข้อมูลที่ทำการ Downsample Classให้อยู่ในรูปของ Array File\n",
    "np.save('HKT_CNN_3x3_09022018.npy', HKT_resample)\n",
    "np.save('Label_CNN_3x3_09022018.npy', Label_resample)"
   ]
  }
 ],
 "metadata": {
  "kernelspec": {
   "display_name": "env_dl",
   "language": "python",
   "name": "env_dl"
  },
  "language_info": {
   "codemirror_mode": {
    "name": "ipython",
    "version": 3
   },
   "file_extension": ".py",
   "mimetype": "text/x-python",
   "name": "python",
   "nbconvert_exporter": "python",
   "pygments_lexer": "ipython3",
   "version": "3.9.6"
  }
 },
 "nbformat": 4,
 "nbformat_minor": 5
}
