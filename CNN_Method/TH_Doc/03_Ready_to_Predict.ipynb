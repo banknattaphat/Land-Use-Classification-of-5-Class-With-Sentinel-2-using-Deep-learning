{
 "cells": [
  {
   "cell_type": "markdown",
   "id": "38744d51-4d28-4129-a66a-133d4d7b25b1",
   "metadata": {},
   "source": [
    "# [Step 3] นำข้อมูลภาพถ่ายดาวเทียม Sentinel - 2 ที่ทำการ Pre-processing มาจำแนก"
   ]
  },
  {
   "cell_type": "code",
   "execution_count": 1,
   "id": "6a89c6da-a426-4b9d-b31b-7b68d6ca24e5",
   "metadata": {},
   "outputs": [],
   "source": [
    "import os\n",
    "import pyrsgis.raster as raster\n",
    "import tensorflow as tf\n",
    "import tensorflow.keras as ks"
   ]
  },
  {
   "cell_type": "code",
   "execution_count": null,
   "id": "e89c491a-8077-4196-b862-ced5d6e768b7",
   "metadata": {},
   "outputs": [],
   "source": [
    "#ตั้งค่า Directory ในการนำเข้าตัว Model และข้อมูลที่ต้องการใช้ในกา่รจำแนก\n",
    "os.chdir(r\"C:\\Users\\std\\Desktop\\Dataset\\CNN Method\\SplitIMG_3x3\\Output\")\n",
    "#import Model\n",
    "Current_Model = ks.models.load_model('LandUse_Model/CNN_LU_3x3_HKT.h5')"
   ]
  },
  {
   "cell_type": "markdown",
   "id": "fa35b7b6-fe95-4236-b631-4f7e1226465f",
   "metadata": {},
   "source": [
    "### [Step 3.1] นำเข้าข้อมูลภาพถ่ายดาวเทียมที่ได้เตรียมไว้ก่อนหน้านี้"
   ]
  },
  {
   "cell_type": "code",
   "execution_count": null,
   "id": "1e0622fc-eaca-4a4b-a345-0d9bd4a01d51",
   "metadata": {},
   "outputs": [],
   "source": [
    "os.chdir(r\"C:\\Users\\std\\Desktop\\Dataset\\CNN Method\")\n",
    "\n",
    "#ทำการ Read File ภาพถ่ายดาวเทียม\n",
    "HKT_IMG = \"Feature_HKT_Inner_DOS_09022018_in_255.tif\"\n",
    "ds, HKT_IMG = raster.read(HKT_IMG, bands='all')"
   ]
  },
  {
   "cell_type": "markdown",
   "id": "2f5adede-2f87-40d1-84a7-935ec7b52e87",
   "metadata": {},
   "source": [
    "### [Step 3.2] สร้าง Function Generator เพื่อทำการตัดภาพให้มีขนาด 5x5 px (เท่ากับตอนที่ Train model)"
   ]
  },
  {
   "cell_type": "code",
   "execution_count": 2,
   "id": "bd18284d-75b2-4c78-8924-512f9140491c",
   "metadata": {},
   "outputs": [],
   "source": [
    "#ฟังก์ชั่นตัวนี้ใช้ สามารถจำนวนภาพขนาดเท่าไหร่ก็ได้ ในที่นี้แนะนำให้ทำขนาด kSize = 5\n",
    "def CNNdataGenerator(mxBands, kSize):\n",
    "    mxBands = mxBands / 255.0     #normalize\n",
    "    nBands, rows, cols = mxBands.shape\n",
    "    margin = math.floor(kSize/2)\n",
    "    mxBands = np.pad(mxBands, margin, mode='constant')[margin:-margin, :, :]\n",
    "\n",
    "    features = np.empty((rows*cols, kSize, kSize, nBands))\n",
    "\n",
    "    n = 0\n",
    "    for row in range(margin, rows+margin):\n",
    "        for col in range(margin, cols+margin):\n",
    "            feat = mxBands[:, row-margin:row+margin+1, col-margin:col+margin+1]\n",
    "\n",
    "            #b1, b2, b3, b4, b5, b6 = feat\n",
    "            #feat = np.dstack((b1, b2, b3, b4, b5, b6))\n",
    "            b1, b2, b3, b4 = feat\n",
    "            feat = np.dstack((b1, b2, b3, b4))\n",
    "            features[n, :, :, :] = feat\n",
    "            n += 1\n",
    "            \n",
    "    return(features)"
   ]
  },
  {
   "cell_type": "markdown",
   "id": "8f48150e-2ffd-435d-8586-5a0347f776b8",
   "metadata": {},
   "source": [
    "### [Step 3.3] ขั้นตอนสุดท้าย !!! สำหรับการนำภาพถ่ายที่เตรียมไว้ไปจำแนกด้วยตัว CNN Model และได้ output ออกมา"
   ]
  },
  {
   "cell_type": "code",
   "execution_count": null,
   "id": "b874e19f-5905-4a23-8544-40a879b27fba",
   "metadata": {},
   "outputs": [],
   "source": [
    "#เรียกใช้งานฟังก์ชั่น CNNdataGenerator\n",
    "IMG_Promp = CNNdataGenerator(HKT_IMG, kSize=5)\n",
    "print(f\"Data Shape : {IMG_Promp.shape}\")\n",
    "\n",
    "#ทำการนำเอาข้อมูลไปทำการจำแนกและ Export ข้อมูลออกมาเมื่อเสร็จ\n",
    "new_HKT = Current_Model.predict(IMG_Promp)\n",
    "newPredicted = new_HKT[:,1]\n",
    "\n",
    "prediction = np.reshape(newPredicted, (ds.RasterYSize, ds.RasterXSize))\n",
    "outFile = 'HKT_CNN_predicted_5by5_09_02_2018.tif'  #สามารถกำหนดชื่อ output ได้ตามต้องการ\n",
    "raster.export(prediction, ds, filename=outFile, dtype='int')"
   ]
  }
 ],
 "metadata": {
  "kernelspec": {
   "display_name": "env_dl",
   "language": "python",
   "name": "env_dl"
  },
  "language_info": {
   "codemirror_mode": {
    "name": "ipython",
    "version": 3
   },
   "file_extension": ".py",
   "mimetype": "text/x-python",
   "name": "python",
   "nbconvert_exporter": "python",
   "pygments_lexer": "ipython3",
   "version": "3.9.6"
  }
 },
 "nbformat": 4,
 "nbformat_minor": 5
}
